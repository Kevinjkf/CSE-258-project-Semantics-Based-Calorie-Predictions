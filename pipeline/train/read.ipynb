{
 "cells": [
  {
   "cell_type": "code",
   "execution_count": 10,
   "metadata": {},
   "outputs": [],
   "source": [
    "import pandas as pd\n",
    "import nltk\n",
    "from nltk.corpus import stopwords\n",
    "from nltk.tokenize import word_tokenize\n",
    "from collections import Counter\n",
    "\n",
    "\n",
    "def preprocess_text(text):\n",
    "    words = word_tokenize(text)\n",
    "    words = [word.lower() for word in words]\n",
    "    stop_words = set(stopwords.words('english'))\n",
    "    words = [word for word in words if word.isalnum() and word not in stop_words]\n",
    "    return words\n",
    "\n",
    "def build_text_count(words):\n",
    "\n",
    "    word_count = Counter(words)\n",
    "    return word_count\n"
   ]
  },
  {
   "cell_type": "code",
   "execution_count": 11,
   "metadata": {},
   "outputs": [],
   "source": [
    "train_file = '../../dataset/processed/train_data.csv'\n",
    "data = pd.read_csv(train_file)\n",
    "steps_text = data.steps.tolist()\n",
    "words = preprocess_text(''.join(steps_text))\n",
    "text_count = build_text_count(words)"
   ]
  },
  {
   "cell_type": "code",
   "execution_count": 12,
   "metadata": {},
   "outputs": [
    {
     "data": {
      "text/plain": [
       "[('minutes', 174004),\n",
       " ('1', 108972),\n",
       " ('heat', 94618),\n",
       " ('bowl', 80612),\n",
       " ('mixture', 79227),\n",
       " ('2', 78387),\n",
       " ('pan', 77050),\n",
       " ('oven', 65243),\n",
       " ('salt', 65114),\n",
       " ('add', 59947),\n",
       " ('oil', 58199),\n",
       " ('large', 57642),\n",
       " ('water', 57440),\n",
       " ('butter', 56837),\n",
       " ('pepper', 53901),\n",
       " ('sugar', 53308),\n",
       " ('cheese', 51178),\n",
       " ('chicken', 50739),\n",
       " ('sauce', 50664),\n",
       " ('well', 48390),\n",
       " ('ingredients', 47579),\n",
       " ('cook', 46702),\n",
       " ('baking', 46020),\n",
       " ('medium', 44792),\n",
       " ('flour', 41469),\n",
       " ('top', 40998),\n",
       " ('mix', 38816),\n",
       " ('garlic', 37712),\n",
       " ('together', 37000),\n",
       " ('cream', 36602),\n",
       " ('4', 36407),\n",
       " ('3', 35660),\n",
       " ('stir', 35283),\n",
       " ('remaining', 34935),\n",
       " ('onion', 33175),\n",
       " ('brown', 33132),\n",
       " ('cup', 31776),\n",
       " ('stirring', 31410),\n",
       " ('skillet', 31162),\n",
       " ('5', 30560),\n",
       " ('boil', 29889),\n",
       " ('small', 29011),\n",
       " ('milk', 27823),\n",
       " ('dough', 27208),\n",
       " ('combine', 26849),\n",
       " ('dish', 26556),\n",
       " ('10', 25914),\n",
       " ('hot', 25682),\n",
       " ('egg', 25399),\n",
       " ('degrees', 24823),\n",
       " ('cool', 24542),\n",
       " ('half', 24281),\n",
       " ('place', 24092),\n",
       " ('juice', 24048),\n",
       " ('aside', 23047),\n",
       " ('hours', 22677),\n",
       " ('simmer', 22231),\n",
       " ('onions', 21849),\n",
       " ('serve', 21752),\n",
       " ('saucepan', 21344),\n",
       " ('eggs', 21173),\n",
       " ('tender', 20817),\n",
       " ('side', 20780),\n",
       " ('low', 20580)]"
      ]
     },
     "execution_count": 12,
     "metadata": {},
     "output_type": "execute_result"
    }
   ],
   "source": [
    "text_count.most_common(64)"
   ]
  },
  {
   "cell_type": "code",
   "execution_count": 17,
   "metadata": {},
   "outputs": [
    {
     "name": "stdout",
     "output_type": "stream",
     "text": [
      "6343307 7299201 0.8690412827376586 31691\n"
     ]
    }
   ],
   "source": [
    "top64_count = sum(i[1] for i in text_count.most_common(768))\n",
    "total_count = sum(text_count.values())\n",
    "print(top64_count,total_count,top64_count/total_count,len(text_count.values()))"
   ]
  }
 ],
 "metadata": {
  "kernelspec": {
   "display_name": "backend",
   "language": "python",
   "name": "python3"
  },
  "language_info": {
   "codemirror_mode": {
    "name": "ipython",
    "version": 3
   },
   "file_extension": ".py",
   "mimetype": "text/x-python",
   "name": "python",
   "nbconvert_exporter": "python",
   "pygments_lexer": "ipython3",
   "version": "3.9.12"
  }
 },
 "nbformat": 4,
 "nbformat_minor": 2
}
