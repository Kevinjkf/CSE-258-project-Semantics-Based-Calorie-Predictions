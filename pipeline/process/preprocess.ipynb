{
 "cells": [
  {
   "cell_type": "markdown",
   "metadata": {},
   "source": [
    "## Dataset EDA"
   ]
  },
  {
   "cell_type": "code",
   "execution_count": 2,
   "metadata": {},
   "outputs": [
    {
     "data": {
      "text/html": [
       "<div>\n",
       "<style scoped>\n",
       "    .dataframe tbody tr th:only-of-type {\n",
       "        vertical-align: middle;\n",
       "    }\n",
       "\n",
       "    .dataframe tbody tr th {\n",
       "        vertical-align: top;\n",
       "    }\n",
       "\n",
       "    .dataframe thead th {\n",
       "        text-align: right;\n",
       "    }\n",
       "</style>\n",
       "<table border=\"1\" class=\"dataframe\">\n",
       "  <thead>\n",
       "    <tr style=\"text-align: right;\">\n",
       "      <th></th>\n",
       "      <th>name</th>\n",
       "      <th>id</th>\n",
       "      <th>minutes</th>\n",
       "      <th>contributor_id</th>\n",
       "      <th>submitted</th>\n",
       "      <th>tags</th>\n",
       "      <th>nutrition</th>\n",
       "      <th>n_steps</th>\n",
       "      <th>steps</th>\n",
       "      <th>description</th>\n",
       "      <th>ingredients</th>\n",
       "      <th>n_ingredients</th>\n",
       "    </tr>\n",
       "  </thead>\n",
       "  <tbody>\n",
       "    <tr>\n",
       "      <th>0</th>\n",
       "      <td>arriba   baked winter squash mexican style</td>\n",
       "      <td>137739</td>\n",
       "      <td>55</td>\n",
       "      <td>47892</td>\n",
       "      <td>2005-09-16</td>\n",
       "      <td>['60-minutes-or-less', 'time-to-make', 'course...</td>\n",
       "      <td>[51.5, 0.0, 13.0, 0.0, 2.0, 0.0, 4.0]</td>\n",
       "      <td>11</td>\n",
       "      <td>['make a choice and proceed with recipe', 'dep...</td>\n",
       "      <td>autumn is my favorite time of year to cook! th...</td>\n",
       "      <td>['winter squash', 'mexican seasoning', 'mixed ...</td>\n",
       "      <td>7</td>\n",
       "    </tr>\n",
       "    <tr>\n",
       "      <th>1</th>\n",
       "      <td>a bit different  breakfast pizza</td>\n",
       "      <td>31490</td>\n",
       "      <td>30</td>\n",
       "      <td>26278</td>\n",
       "      <td>2002-06-17</td>\n",
       "      <td>['30-minutes-or-less', 'time-to-make', 'course...</td>\n",
       "      <td>[173.4, 18.0, 0.0, 17.0, 22.0, 35.0, 1.0]</td>\n",
       "      <td>9</td>\n",
       "      <td>['preheat oven to 425 degrees f', 'press dough...</td>\n",
       "      <td>this recipe calls for the crust to be prebaked...</td>\n",
       "      <td>['prepared pizza crust', 'sausage patty', 'egg...</td>\n",
       "      <td>6</td>\n",
       "    </tr>\n",
       "    <tr>\n",
       "      <th>2</th>\n",
       "      <td>all in the kitchen  chili</td>\n",
       "      <td>112140</td>\n",
       "      <td>130</td>\n",
       "      <td>196586</td>\n",
       "      <td>2005-02-25</td>\n",
       "      <td>['time-to-make', 'course', 'preparation', 'mai...</td>\n",
       "      <td>[269.8, 22.0, 32.0, 48.0, 39.0, 27.0, 5.0]</td>\n",
       "      <td>6</td>\n",
       "      <td>['brown ground beef in large pot', 'add choppe...</td>\n",
       "      <td>this modified version of 'mom's' chili was a h...</td>\n",
       "      <td>['ground beef', 'yellow onions', 'diced tomato...</td>\n",
       "      <td>13</td>\n",
       "    </tr>\n",
       "    <tr>\n",
       "      <th>3</th>\n",
       "      <td>alouette  potatoes</td>\n",
       "      <td>59389</td>\n",
       "      <td>45</td>\n",
       "      <td>68585</td>\n",
       "      <td>2003-04-14</td>\n",
       "      <td>['60-minutes-or-less', 'time-to-make', 'course...</td>\n",
       "      <td>[368.1, 17.0, 10.0, 2.0, 14.0, 8.0, 20.0]</td>\n",
       "      <td>11</td>\n",
       "      <td>['place potatoes in a large pot of lightly sal...</td>\n",
       "      <td>this is a super easy, great tasting, make ahea...</td>\n",
       "      <td>['spreadable cheese with garlic and herbs', 'n...</td>\n",
       "      <td>11</td>\n",
       "    </tr>\n",
       "    <tr>\n",
       "      <th>4</th>\n",
       "      <td>amish  tomato ketchup  for canning</td>\n",
       "      <td>44061</td>\n",
       "      <td>190</td>\n",
       "      <td>41706</td>\n",
       "      <td>2002-10-25</td>\n",
       "      <td>['weeknight', 'time-to-make', 'course', 'main-...</td>\n",
       "      <td>[352.9, 1.0, 337.0, 23.0, 3.0, 0.0, 28.0]</td>\n",
       "      <td>5</td>\n",
       "      <td>['mix all ingredients&amp; boil for 2 1 / 2 hours ...</td>\n",
       "      <td>my dh's amish mother raised him on this recipe...</td>\n",
       "      <td>['tomato juice', 'apple cider vinegar', 'sugar...</td>\n",
       "      <td>8</td>\n",
       "    </tr>\n",
       "  </tbody>\n",
       "</table>\n",
       "</div>"
      ],
      "text/plain": [
       "                                         name      id  minutes  \\\n",
       "0  arriba   baked winter squash mexican style  137739       55   \n",
       "1            a bit different  breakfast pizza   31490       30   \n",
       "2                   all in the kitchen  chili  112140      130   \n",
       "3                          alouette  potatoes   59389       45   \n",
       "4          amish  tomato ketchup  for canning   44061      190   \n",
       "\n",
       "   contributor_id   submitted  \\\n",
       "0           47892  2005-09-16   \n",
       "1           26278  2002-06-17   \n",
       "2          196586  2005-02-25   \n",
       "3           68585  2003-04-14   \n",
       "4           41706  2002-10-25   \n",
       "\n",
       "                                                tags  \\\n",
       "0  ['60-minutes-or-less', 'time-to-make', 'course...   \n",
       "1  ['30-minutes-or-less', 'time-to-make', 'course...   \n",
       "2  ['time-to-make', 'course', 'preparation', 'mai...   \n",
       "3  ['60-minutes-or-less', 'time-to-make', 'course...   \n",
       "4  ['weeknight', 'time-to-make', 'course', 'main-...   \n",
       "\n",
       "                                    nutrition  n_steps  \\\n",
       "0       [51.5, 0.0, 13.0, 0.0, 2.0, 0.0, 4.0]       11   \n",
       "1   [173.4, 18.0, 0.0, 17.0, 22.0, 35.0, 1.0]        9   \n",
       "2  [269.8, 22.0, 32.0, 48.0, 39.0, 27.0, 5.0]        6   \n",
       "3   [368.1, 17.0, 10.0, 2.0, 14.0, 8.0, 20.0]       11   \n",
       "4   [352.9, 1.0, 337.0, 23.0, 3.0, 0.0, 28.0]        5   \n",
       "\n",
       "                                               steps  \\\n",
       "0  ['make a choice and proceed with recipe', 'dep...   \n",
       "1  ['preheat oven to 425 degrees f', 'press dough...   \n",
       "2  ['brown ground beef in large pot', 'add choppe...   \n",
       "3  ['place potatoes in a large pot of lightly sal...   \n",
       "4  ['mix all ingredients& boil for 2 1 / 2 hours ...   \n",
       "\n",
       "                                         description  \\\n",
       "0  autumn is my favorite time of year to cook! th...   \n",
       "1  this recipe calls for the crust to be prebaked...   \n",
       "2  this modified version of 'mom's' chili was a h...   \n",
       "3  this is a super easy, great tasting, make ahea...   \n",
       "4  my dh's amish mother raised him on this recipe...   \n",
       "\n",
       "                                         ingredients  n_ingredients  \n",
       "0  ['winter squash', 'mexican seasoning', 'mixed ...              7  \n",
       "1  ['prepared pizza crust', 'sausage patty', 'egg...              6  \n",
       "2  ['ground beef', 'yellow onions', 'diced tomato...             13  \n",
       "3  ['spreadable cheese with garlic and herbs', 'n...             11  \n",
       "4  ['tomato juice', 'apple cider vinegar', 'sugar...              8  "
      ]
     },
     "execution_count": 2,
     "metadata": {},
     "output_type": "execute_result"
    }
   ],
   "source": [
    "import pandas as pd\n",
    "\n",
    "# Import dataset\n",
    "file_path = '../../dataset/raw/RAW_recipes.csv'\n",
    "recipes_data = pd.read_csv(file_path)\n",
    "\n",
    "recipes_data.head()"
   ]
  },
  {
   "cell_type": "code",
   "execution_count": 3,
   "metadata": {},
   "outputs": [
    {
     "name": "stdout",
     "output_type": "stream",
     "text": [
      "<class 'pandas.core.frame.DataFrame'>\n",
      "RangeIndex: 231637 entries, 0 to 231636\n",
      "Data columns (total 12 columns):\n",
      " #   Column          Non-Null Count   Dtype \n",
      "---  ------          --------------   ----- \n",
      " 0   name            231636 non-null  object\n",
      " 1   id              231637 non-null  int64 \n",
      " 2   minutes         231637 non-null  int64 \n",
      " 3   contributor_id  231637 non-null  int64 \n",
      " 4   submitted       231637 non-null  object\n",
      " 5   tags            231637 non-null  object\n",
      " 6   nutrition       231637 non-null  object\n",
      " 7   n_steps         231637 non-null  int64 \n",
      " 8   steps           231637 non-null  object\n",
      " 9   description     226658 non-null  object\n",
      " 10  ingredients     231637 non-null  object\n",
      " 11  n_ingredients   231637 non-null  int64 \n",
      "dtypes: int64(5), object(7)\n",
      "memory usage: 21.2+ MB\n",
      "None\n",
      "                  id       minutes  contributor_id        n_steps  \\\n",
      "count  231637.000000  2.316370e+05    2.316370e+05  231637.000000   \n",
      "mean   222014.708984  9.398546e+03    5.534885e+06       9.765499   \n",
      "std    141206.635626  4.461963e+06    9.979141e+07       5.995128   \n",
      "min        38.000000  0.000000e+00    2.700000e+01       0.000000   \n",
      "25%     99944.000000  2.000000e+01    5.690500e+04       6.000000   \n",
      "50%    207249.000000  4.000000e+01    1.736140e+05       9.000000   \n",
      "75%    333816.000000  6.500000e+01    3.982750e+05      12.000000   \n",
      "max    537716.000000  2.147484e+09    2.002290e+09     145.000000   \n",
      "\n",
      "       n_ingredients  \n",
      "count  231637.000000  \n",
      "mean        9.051153  \n",
      "std         3.734796  \n",
      "min         1.000000  \n",
      "25%         6.000000  \n",
      "50%         9.000000  \n",
      "75%        11.000000  \n",
      "max        43.000000  \n",
      "<class 'str'>\n"
     ]
    }
   ],
   "source": [
    "# Basic info\n",
    "\n",
    "print(recipes_data.info())\n",
    "\n",
    "print(recipes_data.describe())\n",
    "\n",
    "print(type(recipes_data['nutrition'][0]))"
   ]
  },
  {
   "cell_type": "code",
   "execution_count": 4,
   "metadata": {},
   "outputs": [
    {
     "name": "stdout",
     "output_type": "stream",
     "text": [
      "   submitted                                   nutrition\n",
      "0 2005-09-16       [51.5, 0.0, 13.0, 0.0, 2.0, 0.0, 4.0]\n",
      "1 2002-06-17   [173.4, 18.0, 0.0, 17.0, 22.0, 35.0, 1.0]\n",
      "2 2005-02-25  [269.8, 22.0, 32.0, 48.0, 39.0, 27.0, 5.0]\n",
      "3 2003-04-14   [368.1, 17.0, 10.0, 2.0, 14.0, 8.0, 20.0]\n",
      "4 2002-10-25   [352.9, 1.0, 337.0, 23.0, 3.0, 0.0, 28.0]\n",
      "<class 'str'>\n",
      "<class 'str'>\n",
      "<class 'str'>\n"
     ]
    }
   ],
   "source": [
    "# Convert submitted to time format\n",
    "recipes_data['submitted'] = pd.to_datetime(recipes_data['submitted'])\n",
    "\n",
    "import ast\n",
    "\n",
    "# Convert nutrition to list\n",
    "recipes_data['nutrition'] = recipes_data['nutrition'].apply(ast.literal_eval)\n",
    "\n",
    "print(recipes_data[['submitted', 'nutrition']].head())\n",
    "\n",
    "# Check type of other elements\n",
    "print(type(recipes_data['tags'][0]))\n",
    "print(type(recipes_data['steps'][0]))\n",
    "print(type(recipes_data['ingredients'][0]))\n"
   ]
  },
  {
   "cell_type": "code",
   "execution_count": 5,
   "metadata": {},
   "outputs": [
    {
     "name": "stdout",
     "output_type": "stream",
     "text": [
      "                                                tags  \\\n",
      "0  [60-minutes-or-less, time-to-make, course, mai...   \n",
      "1  [30-minutes-or-less, time-to-make, course, mai...   \n",
      "2  [time-to-make, course, preparation, main-dish,...   \n",
      "3  [60-minutes-or-less, time-to-make, course, mai...   \n",
      "4  [weeknight, time-to-make, course, main-ingredi...   \n",
      "\n",
      "                                               steps  \\\n",
      "0  [make a choice and proceed with recipe, depend...   \n",
      "1  [preheat oven to 425 degrees f, press dough in...   \n",
      "2  [brown ground beef in large pot, add chopped o...   \n",
      "3  [place potatoes in a large pot of lightly salt...   \n",
      "4  [mix all ingredients& boil for 2 1 / 2 hours ,...   \n",
      "\n",
      "                                         ingredients  \n",
      "0  [winter squash, mexican seasoning, mixed spice...  \n",
      "1  [prepared pizza crust, sausage patty, eggs, mi...  \n",
      "2  [ground beef, yellow onions, diced tomatoes, t...  \n",
      "3  [spreadable cheese with garlic and herbs, new ...  \n",
      "4  [tomato juice, apple cider vinegar, sugar, sal...  \n"
     ]
    }
   ],
   "source": [
    "# Convert others elements to list\n",
    "\n",
    "recipes_data['tags'] = recipes_data['tags'].apply(ast.literal_eval)\n",
    "recipes_data['steps'] = recipes_data['steps'].apply(ast.literal_eval)\n",
    "recipes_data['ingredients'] = recipes_data['ingredients'].apply(ast.literal_eval)\n",
    "\n",
    "print(recipes_data[['tags', 'steps', 'ingredients']].head())"
   ]
  },
  {
   "cell_type": "code",
   "execution_count": 6,
   "metadata": {},
   "outputs": [
    {
     "data": {
      "image/png": "[encoded data removed]",
      "text/plain": [
       "<Figure size 720x288 with 1 Axes>"
      ]
     },
     "metadata": {
      "needs_background": "light"
     },
     "output_type": "display_data"
    }
   ],
   "source": [
    "import matplotlib.pyplot as plt\n",
    "\n",
    "# Check abnormal value of minutes\n",
    "\n",
    "plt.figure(figsize=(10, 4))\n",
    "recipes_data['minutes'].plot(kind='box')\n",
    "plt.title('Boxplot of Recipe Preparation Time (Minutes)')\n",
    "plt.show()\n"
   ]
  },
  {
   "cell_type": "code",
   "execution_count": 7,
   "metadata": {},
   "outputs": [
    {
     "data": {
      "image/png": "[encoded data removed]",
      "text/plain": [
       "<Figure size 720x288 with 1 Axes>"
      ]
     },
     "metadata": {
      "needs_background": "light"
     },
     "output_type": "display_data"
    }
   ],
   "source": [
    "# Cut abnormal minutes\n",
    "minutes_percentile = recipes_data['minutes'].quantile(0.91)\n",
    "\n",
    "recipes_data.loc[recipes_data['minutes'] > minutes_percentile, 'minutes'] = minutes_percentile\n",
    "\n",
    "plt.figure(figsize=(10, 4))\n",
    "recipes_data['minutes'].plot(kind='box')\n",
    "plt.title('Boxplot of Recipe Preparation Time (Minutes) after Limiting Outliers')\n",
    "plt.show()"
   ]
  },
  {
   "cell_type": "code",
   "execution_count": 8,
   "metadata": {},
   "outputs": [
    {
     "name": "stdout",
     "output_type": "stream",
     "text": [
      "<class 'pandas.core.frame.DataFrame'>\n",
      "Int64Index: 231636 entries, 0 to 231636\n",
      "Data columns (total 12 columns):\n",
      " #   Column          Non-Null Count   Dtype         \n",
      "---  ------          --------------   -----         \n",
      " 0   name            231636 non-null  object        \n",
      " 1   id              231636 non-null  int64         \n",
      " 2   minutes         231636 non-null  int64         \n",
      " 3   contributor_id  231636 non-null  int64         \n",
      " 4   submitted       231636 non-null  datetime64[ns]\n",
      " 5   tags            231636 non-null  object        \n",
      " 6   nutrition       231636 non-null  object        \n",
      " 7   n_steps         231636 non-null  int64         \n",
      " 8   steps           231636 non-null  object        \n",
      " 9   description     226657 non-null  object        \n",
      " 10  ingredients     231636 non-null  object        \n",
      " 11  n_ingredients   231636 non-null  int64         \n",
      "dtypes: datetime64[ns](1), int64(5), object(6)\n",
      "memory usage: 23.0+ MB\n",
      "None\n"
     ]
    }
   ],
   "source": [
    "# Delete null value from name\n",
    "recipes_data = recipes_data.dropna(subset=['name'])\n",
    "\n",
    "print(recipes_data.info())"
   ]
  },
  {
   "cell_type": "code",
   "execution_count": 9,
   "metadata": {},
   "outputs": [
    {
     "data": {
      "text/html": [
       "<div>\n",
       "<style scoped>\n",
       "    .dataframe tbody tr th:only-of-type {\n",
       "        vertical-align: middle;\n",
       "    }\n",
       "\n",
       "    .dataframe tbody tr th {\n",
       "        vertical-align: top;\n",
       "    }\n",
       "\n",
       "    .dataframe thead th {\n",
       "        text-align: right;\n",
       "    }\n",
       "</style>\n",
       "<table border=\"1\" class=\"dataframe\">\n",
       "  <thead>\n",
       "    <tr style=\"text-align: right;\">\n",
       "      <th></th>\n",
       "      <th>name</th>\n",
       "      <th>id</th>\n",
       "      <th>minutes</th>\n",
       "      <th>contributor_id</th>\n",
       "      <th>submitted</th>\n",
       "      <th>tags</th>\n",
       "      <th>n_steps</th>\n",
       "      <th>steps</th>\n",
       "      <th>description</th>\n",
       "      <th>ingredients</th>\n",
       "      <th>n_ingredients</th>\n",
       "      <th>calories</th>\n",
       "      <th>total_fat</th>\n",
       "      <th>sugar</th>\n",
       "      <th>sodium</th>\n",
       "      <th>protein</th>\n",
       "      <th>saturated_fat</th>\n",
       "      <th>carbohydrates</th>\n",
       "    </tr>\n",
       "  </thead>\n",
       "  <tbody>\n",
       "    <tr>\n",
       "      <th>0</th>\n",
       "      <td>arriba   baked winter squash mexican style</td>\n",
       "      <td>137739</td>\n",
       "      <td>55</td>\n",
       "      <td>47892</td>\n",
       "      <td>2005-09-16</td>\n",
       "      <td>[60-minutes-or-less, time-to-make, course, mai...</td>\n",
       "      <td>11</td>\n",
       "      <td>[make a choice and proceed with recipe, depend...</td>\n",
       "      <td>autumn is my favorite time of year to cook! th...</td>\n",
       "      <td>[winter squash, mexican seasoning, mixed spice...</td>\n",
       "      <td>7</td>\n",
       "      <td>51.5</td>\n",
       "      <td>0.0</td>\n",
       "      <td>13.0</td>\n",
       "      <td>0.0</td>\n",
       "      <td>2.0</td>\n",
       "      <td>0.0</td>\n",
       "      <td>4.0</td>\n",
       "    </tr>\n",
       "    <tr>\n",
       "      <th>1</th>\n",
       "      <td>a bit different  breakfast pizza</td>\n",
       "      <td>31490</td>\n",
       "      <td>30</td>\n",
       "      <td>26278</td>\n",
       "      <td>2002-06-17</td>\n",
       "      <td>[30-minutes-or-less, time-to-make, course, mai...</td>\n",
       "      <td>9</td>\n",
       "      <td>[preheat oven to 425 degrees f, press dough in...</td>\n",
       "      <td>this recipe calls for the crust to be prebaked...</td>\n",
       "      <td>[prepared pizza crust, sausage patty, eggs, mi...</td>\n",
       "      <td>6</td>\n",
       "      <td>173.4</td>\n",
       "      <td>18.0</td>\n",
       "      <td>0.0</td>\n",
       "      <td>17.0</td>\n",
       "      <td>22.0</td>\n",
       "      <td>35.0</td>\n",
       "      <td>1.0</td>\n",
       "    </tr>\n",
       "    <tr>\n",
       "      <th>2</th>\n",
       "      <td>all in the kitchen  chili</td>\n",
       "      <td>112140</td>\n",
       "      <td>130</td>\n",
       "      <td>196586</td>\n",
       "      <td>2005-02-25</td>\n",
       "      <td>[time-to-make, course, preparation, main-dish,...</td>\n",
       "      <td>6</td>\n",
       "      <td>[brown ground beef in large pot, add chopped o...</td>\n",
       "      <td>this modified version of 'mom's' chili was a h...</td>\n",
       "      <td>[ground beef, yellow onions, diced tomatoes, t...</td>\n",
       "      <td>13</td>\n",
       "      <td>269.8</td>\n",
       "      <td>22.0</td>\n",
       "      <td>32.0</td>\n",
       "      <td>48.0</td>\n",
       "      <td>39.0</td>\n",
       "      <td>27.0</td>\n",
       "      <td>5.0</td>\n",
       "    </tr>\n",
       "    <tr>\n",
       "      <th>3</th>\n",
       "      <td>alouette  potatoes</td>\n",
       "      <td>59389</td>\n",
       "      <td>45</td>\n",
       "      <td>68585</td>\n",
       "      <td>2003-04-14</td>\n",
       "      <td>[60-minutes-or-less, time-to-make, course, mai...</td>\n",
       "      <td>11</td>\n",
       "      <td>[place potatoes in a large pot of lightly salt...</td>\n",
       "      <td>this is a super easy, great tasting, make ahea...</td>\n",
       "      <td>[spreadable cheese with garlic and herbs, new ...</td>\n",
       "      <td>11</td>\n",
       "      <td>368.1</td>\n",
       "      <td>17.0</td>\n",
       "      <td>10.0</td>\n",
       "      <td>2.0</td>\n",
       "      <td>14.0</td>\n",
       "      <td>8.0</td>\n",
       "      <td>20.0</td>\n",
       "    </tr>\n",
       "    <tr>\n",
       "      <th>4</th>\n",
       "      <td>amish  tomato ketchup  for canning</td>\n",
       "      <td>44061</td>\n",
       "      <td>145</td>\n",
       "      <td>41706</td>\n",
       "      <td>2002-10-25</td>\n",
       "      <td>[weeknight, time-to-make, course, main-ingredi...</td>\n",
       "      <td>5</td>\n",
       "      <td>[mix all ingredients&amp; boil for 2 1 / 2 hours ,...</td>\n",
       "      <td>my dh's amish mother raised him on this recipe...</td>\n",
       "      <td>[tomato juice, apple cider vinegar, sugar, sal...</td>\n",
       "      <td>8</td>\n",
       "      <td>352.9</td>\n",
       "      <td>1.0</td>\n",
       "      <td>337.0</td>\n",
       "      <td>23.0</td>\n",
       "      <td>3.0</td>\n",
       "      <td>0.0</td>\n",
       "      <td>28.0</td>\n",
       "    </tr>\n",
       "  </tbody>\n",
       "</table>\n",
       "</div>"
      ],
      "text/plain": [
       "                                         name      id  minutes  \\\n",
       "0  arriba   baked winter squash mexican style  137739       55   \n",
       "1            a bit different  breakfast pizza   31490       30   \n",
       "2                   all in the kitchen  chili  112140      130   \n",
       "3                          alouette  potatoes   59389       45   \n",
       "4          amish  tomato ketchup  for canning   44061      145   \n",
       "\n",
       "   contributor_id  submitted  \\\n",
       "0           47892 2005-09-16   \n",
       "1           26278 2002-06-17   \n",
       "2          196586 2005-02-25   \n",
       "3           68585 2003-04-14   \n",
       "4           41706 2002-10-25   \n",
       "\n",
       "                                                tags  n_steps  \\\n",
       "0  [60-minutes-or-less, time-to-make, course, mai...       11   \n",
       "1  [30-minutes-or-less, time-to-make, course, mai...        9   \n",
       "2  [time-to-make, course, preparation, main-dish,...        6   \n",
       "3  [60-minutes-or-less, time-to-make, course, mai...       11   \n",
       "4  [weeknight, time-to-make, course, main-ingredi...        5   \n",
       "\n",
       "                                               steps  \\\n",
       "0  [make a choice and proceed with recipe, depend...   \n",
       "1  [preheat oven to 425 degrees f, press dough in...   \n",
       "2  [brown ground beef in large pot, add chopped o...   \n",
       "3  [place potatoes in a large pot of lightly salt...   \n",
       "4  [mix all ingredients& boil for 2 1 / 2 hours ,...   \n",
       "\n",
       "                                         description  \\\n",
       "0  autumn is my favorite time of year to cook! th...   \n",
       "1  this recipe calls for the crust to be prebaked...   \n",
       "2  this modified version of 'mom's' chili was a h...   \n",
       "3  this is a super easy, great tasting, make ahea...   \n",
       "4  my dh's amish mother raised him on this recipe...   \n",
       "\n",
       "                                         ingredients  n_ingredients  calories  \\\n",
       "0  [winter squash, mexican seasoning, mixed spice...              7      51.5   \n",
       "1  [prepared pizza crust, sausage patty, eggs, mi...              6     173.4   \n",
       "2  [ground beef, yellow onions, diced tomatoes, t...             13     269.8   \n",
       "3  [spreadable cheese with garlic and herbs, new ...             11     368.1   \n",
       "4  [tomato juice, apple cider vinegar, sugar, sal...              8     352.9   \n",
       "\n",
       "   total_fat  sugar  sodium  protein  saturated_fat  carbohydrates  \n",
       "0        0.0   13.0     0.0      2.0            0.0            4.0  \n",
       "1       18.0    0.0    17.0     22.0           35.0            1.0  \n",
       "2       22.0   32.0    48.0     39.0           27.0            5.0  \n",
       "3       17.0   10.0     2.0     14.0            8.0           20.0  \n",
       "4        1.0  337.0    23.0      3.0            0.0           28.0  "
      ]
     },
     "execution_count": 9,
     "metadata": {},
     "output_type": "execute_result"
    }
   ],
   "source": [
    "# Split nutrition into separate columns\n",
    "nutrition_df = recipes_data['nutrition'].apply(pd.Series)\n",
    "nutrition_df.columns = ['calories', 'total_fat', 'sugar', 'sodium', 'protein', 'saturated_fat', 'carbohydrates']\n",
    "\n",
    "recipes_data = pd.concat([recipes_data, nutrition_df], axis=1)\n",
    "recipes_data = recipes_data.drop('nutrition', axis=1)\n",
    "recipes_data.head()"
   ]
  },
  {
   "cell_type": "code",
   "execution_count": 10,
   "metadata": {},
   "outputs": [
    {
     "data": {
      "image/png": "[encoded data removed]",
      "text/plain": [
       "<Figure size 1080x720 with 9 Axes>"
      ]
     },
     "metadata": {
      "needs_background": "light"
     },
     "output_type": "display_data"
    }
   ],
   "source": [
    "# Check distribution of nutritions\n",
    "nutrition_columns = ['calories', 'total_fat', 'sugar', 'sodium', 'protein', 'saturated_fat', 'carbohydrates']\n",
    "recipes_data[nutrition_columns].hist(bins=50, figsize=(15, 10))\n",
    "plt.suptitle('Nutritional Information')\n",
    "plt.show()"
   ]
  },
  {
   "cell_type": "code",
   "execution_count": 11,
   "metadata": {},
   "outputs": [
    {
     "data": {
      "image/png": "[encoded data removed]",
      "text/plain": [
       "<Figure size 576x432 with 1 Axes>"
      ]
     },
     "metadata": {
      "needs_background": "light"
     },
     "output_type": "display_data"
    }
   ],
   "source": [
    "import numpy as np\n",
    "\n",
    "# Log transform\n",
    "recipes_data['calories_log'] = np.log(recipes_data['calories'] + 1)\n",
    "\n",
    "plt.figure(figsize=(8, 6))\n",
    "recipes_data['calories_log'].hist(bins=50)\n",
    "plt.title('Histogram of Log-transformed Calories')\n",
    "plt.xlabel('Log-transformed Calories')\n",
    "plt.ylabel('Frequency')\n",
    "plt.show()\n"
   ]
  },
  {
   "cell_type": "code",
   "execution_count": 12,
   "metadata": {},
   "outputs": [
    {
     "data": {
      "image/png": "[encoded data removed]",
      "text/plain": [
       "<Figure size 1080x720 with 6 Axes>"
      ]
     },
     "metadata": {
      "needs_background": "light"
     },
     "output_type": "display_data"
    }
   ],
   "source": [
    "# Log transformation on other nutritional columns\n",
    "for col in ['total_fat', 'sugar', 'sodium', 'protein', 'saturated_fat', 'carbohydrates']:\n",
    "    recipes_data[f'{col}_log'] = np.log(recipes_data[col] + 1)\n",
    "\n",
    "log_nutrition_columns = ['total_fat_log', 'sugar_log', 'sodium_log', 'protein_log', 'saturated_fat_log', 'carbohydrates_log']\n",
    "recipes_data[log_nutrition_columns].hist(bins=50, figsize=(15, 10))\n",
    "plt.suptitle('Histograms of Log-transformed Nutritional Information')\n",
    "plt.show()"
   ]
  },
  {
   "cell_type": "code",
   "execution_count": 13,
   "metadata": {},
   "outputs": [
    {
     "name": "stdout",
     "output_type": "stream",
     "text": [
      "<class 'pandas.core.frame.DataFrame'>\n",
      "Int64Index: 231636 entries, 0 to 231636\n",
      "Data columns (total 25 columns):\n",
      " #   Column             Non-Null Count   Dtype         \n",
      "---  ------             --------------   -----         \n",
      " 0   name               231636 non-null  object        \n",
      " 1   id                 231636 non-null  int64         \n",
      " 2   minutes            231636 non-null  int64         \n",
      " 3   contributor_id     231636 non-null  int64         \n",
      " 4   submitted          231636 non-null  datetime64[ns]\n",
      " 5   tags               231636 non-null  object        \n",
      " 6   n_steps            231636 non-null  int64         \n",
      " 7   steps              231636 non-null  object        \n",
      " 8   description        226657 non-null  object        \n",
      " 9   ingredients        231636 non-null  object        \n",
      " 10  n_ingredients      231636 non-null  int64         \n",
      " 11  calories           231636 non-null  float64       \n",
      " 12  total_fat          231636 non-null  float64       \n",
      " 13  sugar              231636 non-null  float64       \n",
      " 14  sodium             231636 non-null  float64       \n",
      " 15  protein            231636 non-null  float64       \n",
      " 16  saturated_fat      231636 non-null  float64       \n",
      " 17  carbohydrates      231636 non-null  float64       \n",
      " 18  calories_log       231636 non-null  float64       \n",
      " 19  total_fat_log      231636 non-null  float64       \n",
      " 20  sugar_log          231636 non-null  float64       \n",
      " 21  sodium_log         231636 non-null  float64       \n",
      " 22  protein_log        231636 non-null  float64       \n",
      " 23  saturated_fat_log  231636 non-null  float64       \n",
      " 24  carbohydrates_log  231636 non-null  float64       \n",
      "dtypes: datetime64[ns](1), float64(14), int64(5), object(5)\n",
      "memory usage: 45.9+ MB\n",
      "None\n"
     ]
    }
   ],
   "source": [
    "print(recipes_data.info())"
   ]
  },
  {
   "cell_type": "code",
   "execution_count": 14,
   "metadata": {},
   "outputs": [],
   "source": [
    "# Select features and target\n",
    "features = ['minutes', 'n_steps', 'n_ingredients'] + log_nutrition_columns\n",
    "target = 'calories_log'\n",
    "\n",
    "X = recipes_data[features]\n",
    "y = recipes_data[target]"
   ]
  },
  {
   "cell_type": "code",
   "execution_count": 15,
   "metadata": {},
   "outputs": [],
   "source": [
    "from sklearn.model_selection import train_test_split\n",
    "\n",
    "X_train, X_test, y_train, y_test = train_test_split(X, y, test_size=0.2, random_state=42)"
   ]
  },
  {
   "cell_type": "code",
   "execution_count": 15,
   "metadata": {},
   "outputs": [
    {
     "name": "stdout",
     "output_type": "stream",
     "text": [
      "Root Mean Squared Error (RMSE) on test set: 0.34265420316316997\n",
      "Root Mean Squared Error (RMSE) on original calorie scale: 245.32832963348557\n"
     ]
    }
   ],
   "source": [
    "# Just a baseline\n",
    "from sklearn.linear_model import LinearRegression\n",
    "from sklearn.metrics import mean_squared_error\n",
    "\n",
    "lr_model = LinearRegression()\n",
    "\n",
    "lr_model.fit(X_train, y_train)\n",
    "\n",
    "y_pred = lr_model.predict(X_test)\n",
    "\n",
    "# RMSE\n",
    "rmse = np.sqrt(mean_squared_error(y_test, y_pred))\n",
    "print(f'Root Mean Squared Error (RMSE) on test set: {rmse}')\n",
    "\n",
    "# On original scale\n",
    "y_test_exp = np.exp(y_test) - 1\n",
    "y_pred_exp = np.exp(y_pred) - 1\n",
    "rmse_exp = np.sqrt(mean_squared_error(y_test_exp, y_pred_exp))\n",
    "print(f'Root Mean Squared Error (RMSE) on original calorie scale: {rmse_exp}')"
   ]
  },
  {
   "cell_type": "code",
   "execution_count": 16,
   "metadata": {},
   "outputs": [],
   "source": [
    "from sklearn.model_selection import train_test_split\n",
    "\n",
    "train_data, temp_test_data = train_test_split(recipes_data, test_size=0.4, random_state=42)\n",
    "\n",
    "validation_data, test_data = train_test_split(temp_test_data, test_size=0.5, random_state=42)\n",
    "\n",
    "train_data_path = '../../dataset/processed/train_data.csv'\n",
    "validation_data_path = '../../dataset/processed/validation_data.csv'\n",
    "test_data_path = '../../dataset/processed/test_data.csv'\n",
    "\n",
    "train_data.to_csv(train_data_path, index=False)\n",
    "validation_data.to_csv(validation_data_path, index=False)\n",
    "test_data.to_csv(test_data_path, index=False)"
   ]
  },
  {
   "cell_type": "code",
   "execution_count": 5,
   "metadata": {},
   "outputs": [
    {
     "name": "stderr",
     "output_type": "stream",
     "text": [
      "[nltk_data] Downloading package stopwords to /home/joel/nltk_data...\n",
      "[nltk_data]   Package stopwords is already up-to-date!\n"
     ]
    },
    {
     "data": {
      "image/png": "[encoded data removed]",
      "text/plain": [
       "<Figure size 1080x360 with 1 Axes>"
      ]
     },
     "metadata": {
      "needs_background": "light"
     },
     "output_type": "display_data"
    }
   ],
   "source": [
    "import pandas as pd\n",
    "import re\n",
    "import matplotlib.pyplot as plt\n",
    "from collections import Counter\n",
    "from nltk.corpus import stopwords\n",
    "import nltk\n",
    "\n",
    "nltk.download('stopwords')\n",
    "\n",
    "stop_words = set(stopwords.words('english'))\n",
    "\n",
    "train_data_path = '../../dataset/processed/train_data.csv'\n",
    "\n",
    "data = pd.read_csv(train_data_path)\n",
    "\n",
    "word_freq = Counter()\n",
    "\n",
    "for steps in data['steps']:\n",
    "\n",
    "    steps_list = eval(steps)\n",
    "    \n",
    "    for step in steps_list:\n",
    "        step_clean = re.sub(r'[^\\w\\s]', '', step).lower()\n",
    "        words = step_clean.split()\n",
    "        words_filtered = [word for word in words if word not in stop_words]\n",
    "        word_freq.update(words_filtered)\n",
    "\n",
    "most_common_words = word_freq.most_common(500)\n",
    "words, counts = zip(*most_common_words)\n",
    "\n",
    "plt.figure(figsize=(15, 5))\n",
    "plt.bar(words, counts)\n",
    "plt.xticks(rotation=90)\n",
    "plt.title('Word Frequency Distribution')\n",
    "plt.xlabel('Words')\n",
    "plt.ylabel('Frequency')\n",
    "\n",
    "plt.show()\n"
   ]
  }
 ],
 "metadata": {
  "kernelspec": {
   "display_name": "Python 3 (ipykernel)",
   "language": "python",
   "name": "python3"
  },
  "language_info": {
   "codemirror_mode": {
    "name": "ipython",
    "version": 3
   },
   "file_extension": ".py",
   "mimetype": "text/x-python",
   "name": "python",
   "nbconvert_exporter": "python",
   "pygments_lexer": "ipython3",
   "version": "3.10.12"
  }
 },
 "nbformat": 4,
 "nbformat_minor": 4
}
